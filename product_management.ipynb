{
 "cells": [
  {
   "cell_type": "code",
   "execution_count": 2,
   "id": "8e3dfc55",
   "metadata": {},
   "outputs": [
    {
     "name": "stdout",
     "output_type": "stream",
     "text": [
      "-------- PRODUCT MANAGEMENT PROGRAME --------\n",
      "1. Product Information\n",
      "2. Add product\n",
      "3. Update product\n",
      "4. Delete product\n",
      "5. Exit\n",
      "Select your choice: 1\n",
      "Input product id: s01\n",
      "xoài : 20.000đ\n",
      "Select your choice: 5\n"
     ]
    }
   ],
   "source": [
    "def get_info(product_db,product_id):\n",
    "    if product_id in product_db:\n",
    "        print(product_db[product_id]['name'],':',product_db[product_id]['price'])\n",
    "    else:\n",
    "        print(f'Product with ID {product_id} does not exist')\n",
    "        \n",
    "def add_product(product_db,product_id,product_name,product_price):\n",
    "    if product_id in product_db:\n",
    "        print('Product is existed')\n",
    "    else:\n",
    "        product_db[product_id] = {'name':product_name,'price':product_price}\n",
    "        print('Add suscessfully!')\n",
    "\n",
    "def update_info(product_db,product_id):\n",
    "    if product_id not in product_db:\n",
    "        print('Product does not exist')\n",
    "    else:\n",
    "        while True:\n",
    "            update_choice = input('Update name or price?: ')\n",
    "            if update_choice == 'name':\n",
    "                product__new_name = input('Input product new name: ')\n",
    "                product_db[product_id]['name'] = product__new_name\n",
    "                print('Product\\'s name updated suscessfully!')\n",
    "                break\n",
    "            elif update_choice == 'price':\n",
    "                product__new_price = input('Input product new price: ')\n",
    "                product_db[product_id]['price'] = product__new_price\n",
    "                print('Product\\'s price updated suscessfully!')\n",
    "                break\n",
    "            else:\n",
    "                print('Wrong choice!')\n",
    "                    \n",
    "product_db = {\n",
    "    's01':{        \n",
    "        'name':'xoài',\n",
    "        'price':'20.000đ'\n",
    "    },\n",
    "    's02':{        \n",
    "        'name':'cam',\n",
    "        'price':'10.000đ'\n",
    "    }\n",
    "}\n",
    "\n",
    "print('-------- PRODUCT MANAGEMENT PROGRAME --------')\n",
    "print('1. Product Information\\n2. Add product\\n3. Update product\\n4. Delete product\\n5. Exit')\n",
    "run = True\n",
    "while run:\n",
    "    choice = int(input('Select your choice: '))\n",
    "    if choice == 1:\n",
    "        product_id = input('Input product id: ')\n",
    "        get_info(product_db,product_id)\n",
    "    if choice == 2:\n",
    "        product_id = input('Input product id: ')\n",
    "        product_name = input('Input product name: ')\n",
    "        product_price = input('Input product price: ')\n",
    "        add_product(product_db,product_id,product_name,product_price)\n",
    "    if choice == 3:\n",
    "        product_id = input('Input product id: ')\n",
    "        update_info(product_db,product_id)\n",
    "    if choice == 4:\n",
    "        product_id = input('Input product id: ')\n",
    "        del product_db[product_id]\n",
    "        print('Deleted suscessfully!')\n",
    "    if choice == 5:\n",
    "        print('Goo')\n",
    "        break\n",
    "#     else:\n",
    "#         break\n"
   ]
  },
  {
   "cell_type": "code",
   "execution_count": null,
   "id": "01469a55",
   "metadata": {},
   "outputs": [],
   "source": []
  },
  {
   "cell_type": "code",
   "execution_count": null,
   "id": "8be16d8e",
   "metadata": {},
   "outputs": [],
   "source": []
  }
 ],
 "metadata": {
  "kernelspec": {
   "display_name": "Python 3",
   "language": "python",
   "name": "python3"
  },
  "language_info": {
   "codemirror_mode": {
    "name": "ipython",
    "version": 3
   },
   "file_extension": ".py",
   "mimetype": "text/x-python",
   "name": "python",
   "nbconvert_exporter": "python",
   "pygments_lexer": "ipython3",
   "version": "3.8.8"
  }
 },
 "nbformat": 4,
 "nbformat_minor": 5
}
