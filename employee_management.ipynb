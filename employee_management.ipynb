{
 "cells": [
  {
   "cell_type": "code",
   "execution_count": 6,
   "id": "69fa66ca",
   "metadata": {},
   "outputs": [
    {
     "name": "stdout",
     "output_type": "stream",
     "text": [
      "Input employee ID:1000\n",
      "name : Alex\n",
      "doj : 01-10-89\n",
      "dept : ACCOUNTS\n"
     ]
    }
   ],
   "source": [
    "def get_employee_info(employee_id):\n",
    "    if employee_id in employee_db:\n",
    "        return employee_db[employee_id]\n",
    "    else:\n",
    "        print(f'Empployee has ID {employee_id} does not exists')\n",
    "        return\n",
    "    \n",
    "def get_department_info(department_id):\n",
    "    if department_id in department_db:\n",
    "        return department_db[department_id]\n",
    "    else:\n",
    "        print(f'Department has ID {department_id} does not exists')\n",
    "        return        \n",
    "def display_employee_data(emp_data):\n",
    "    for key, value in emp_data.items():\n",
    "        if key == 'dept':\n",
    "            print(key,':',get_department_info(value))\n",
    "        else:\n",
    "            print(key,':',value)\n",
    "            \n",
    "department_db = {\n",
    "    101 : 'HRD',\n",
    "    102 : 'FINANCE',\n",
    "    103 : 'ACCOUNTS',\n",
    "    104 : 'SALES',\n",
    "    105 : 'ENGINEERING',\n",
    "    106 : 'SUPPORT'\n",
    "    }\n",
    "employee_db = { \n",
    "    1000: dict(name=\"Alex\",doj='01-10-89',dept=103),\n",
    "    1001: dict(name=\"Mary\",doj='01-11-88',dept=101),\n",
    "    1002: dict(name=\"John\",doj='01-10-87',dept=104),\n",
    "    1003: dict(name=\"David\",doj='01-06-89',dept=105),\n",
    "    1004: dict(name=\"Anne\",doj='01-01-86',dept=106),\n",
    "    1005: dict(name=\"Samson\",doj='01-02-89',dept=101)\n",
    "    }\n",
    "\n",
    "emp_id = int(input('Input employee ID:'))\n",
    "emp_data = get_employee_info(emp_id)\n",
    "if emp_data:\n",
    "    display_employee_data(emp_data)\n",
    "    \n",
    "            "
   ]
  },
  {
   "cell_type": "code",
   "execution_count": null,
   "id": "0c61d515",
   "metadata": {},
   "outputs": [],
   "source": []
  },
  {
   "cell_type": "code",
   "execution_count": null,
   "id": "f37b32e0",
   "metadata": {},
   "outputs": [],
   "source": []
  }
 ],
 "metadata": {
  "kernelspec": {
   "display_name": "Python 3",
   "language": "python",
   "name": "python3"
  },
  "language_info": {
   "codemirror_mode": {
    "name": "ipython",
    "version": 3
   },
   "file_extension": ".py",
   "mimetype": "text/x-python",
   "name": "python",
   "nbconvert_exporter": "python",
   "pygments_lexer": "ipython3",
   "version": "3.8.8"
  }
 },
 "nbformat": 4,
 "nbformat_minor": 5
}
