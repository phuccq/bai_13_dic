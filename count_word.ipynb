{
 "cells": [
  {
   "cell_type": "code",
   "execution_count": 12,
   "id": "61f10992",
   "metadata": {},
   "outputs": [
    {
     "name": "stdout",
     "output_type": "stream",
     "text": [
      "Input your paragraph: tôi yêu em thì Tôi chết\n",
      "tôi : 2\n",
      "yêu : 1\n",
      "em : 1\n",
      "thì : 1\n",
      "chết : 1\n",
      "{'tôi': 2, 'yêu': 1, 'em': 1, 'thì': 1, 'chết': 1}\n"
     ]
    }
   ],
   "source": [
    "def count_word(paragaph):\n",
    "    num_word = {}\n",
    "    text_list = paragaph.split(' ')\n",
    "    for word in text_list:\n",
    "        lower_word = word.lower()\n",
    "        if lower_word not in num_word:\n",
    "            num_word[lower_word] = 1\n",
    "        else:\n",
    "            num_word[lower_word] += 1\n",
    "    return num_word\n",
    "\n",
    "paragraph = input('Input your paragraph: ')\n",
    "num_word = count_word(paragraph)\n",
    "for word in num_word:\n",
    "    print(word,':',num_word[word])\n",
    "# print(count_word(paragraph))\n",
    "    "
   ]
  },
  {
   "cell_type": "code",
   "execution_count": null,
   "id": "18ece89d",
   "metadata": {},
   "outputs": [],
   "source": []
  },
  {
   "cell_type": "code",
   "execution_count": null,
   "id": "f7d45fe7",
   "metadata": {},
   "outputs": [],
   "source": []
  }
 ],
 "metadata": {
  "kernelspec": {
   "display_name": "Python 3",
   "language": "python",
   "name": "python3"
  },
  "language_info": {
   "codemirror_mode": {
    "name": "ipython",
    "version": 3
   },
   "file_extension": ".py",
   "mimetype": "text/x-python",
   "name": "python",
   "nbconvert_exporter": "python",
   "pygments_lexer": "ipython3",
   "version": "3.8.8"
  }
 },
 "nbformat": 4,
 "nbformat_minor": 5
}
