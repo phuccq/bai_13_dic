{
 "cells": [
  {
   "cell_type": "code",
   "execution_count": null,
   "id": "d4e3e68a",
   "metadata": {},
   "outputs": [],
   "source": [
    "employee = {}\n",
    "tuoi_lon_nhat = 0\n",
    "while True:\n",
    "    maNv = input(\"Nhập mã nhân viên: \")\n",
    "    tuoiNv = input(\"Nhập tuổi nhân viên: \")    \n",
    "    if maNv == \"\" or tuoiNv == \"\":\n",
    "        break\n",
    "    employee[maNv] = tuoiNv\n",
    "print(employee)\n",
    "print(\"Tuổi của nhân viên lớn nhất là \",max(employee.values()))\n",
    "print(\"Tuổi của nhân viên nhỏ nhất là \",min(employee.values()))\n",
    "    "
   ]
  },
  {
   "cell_type": "code",
   "execution_count": 8,
   "id": "b4314ff8",
   "metadata": {},
   "outputs": [
    {
     "name": "stdout",
     "output_type": "stream",
     "text": [
      "Nhập mã nhân viên: 1\n",
      "Nhập tuổi nhân viên: 26\n",
      "Do you want to continue? (y/n): y\n",
      "Nhập mã nhân viên: 2\n",
      "Nhập tuổi nhân viên: 34\n",
      "Do you want to continue? (y/n): y\n",
      "Nhập mã nhân viên: 3\n",
      "Nhập tuổi nhân viên: 30\n",
      "Do you want to continue? (y/n): n\n",
      "['26', '30', '34']\n"
     ]
    }
   ],
   "source": [
    "# 1. Người dùng nhập các thông với mã và tuổi nhân viên. Lưu các thông tin này vào dict. \n",
    "# Tìm và in ra danh sách tuổi duy nhất và sắp xếp tăng dần\n",
    "employees = {}\n",
    "unique_age = []\n",
    "run = True\n",
    "while run:\n",
    "    maNv = input(\"Nhập mã nhân viên: \")\n",
    "    tuoiNv = input(\"Nhập tuổi nhân viên: \")    \n",
    "    if maNv == \"\" or tuoiNv == \"\":\n",
    "        break\n",
    "    else:\n",
    "        employees[maNv] = tuoiNv\n",
    "    for employee in employees:\n",
    "        if employees[employee] not in unique_age:\n",
    "            unique_age.append(employees[employee])\n",
    "            unique_age.sort()\n",
    "    while True:\n",
    "        cont = input('Do you want to continue? (y/n): ')\n",
    "        if cont == 'n':\n",
    "            run = False\n",
    "            break\n",
    "        elif cont == 'y':\n",
    "            break\n",
    "        else:\n",
    "            print('Ivalid choice!')\n",
    "    \n",
    "print(unique_age)\n"
   ]
  },
  {
   "cell_type": "code",
   "execution_count": 11,
   "id": "5195a413",
   "metadata": {},
   "outputs": [
    {
     "name": "stdout",
     "output_type": "stream",
     "text": [
      "Nhập chuỗi: chao cac ban\n",
      "chao cac ban\n",
      "{'c': 3, 'h': 1, 'a': 3, 'o': 1, ' ': 2, 'b': 1, 'n': 1}\n"
     ]
    }
   ],
   "source": [
    "# 2. Tạo 1 dict từ 1 chuỗi với key là ký tự và value là số lượng ký tự đó xuất hiện trong chuỗi.\n",
    "# Ví dụ: 'chao cac ban' => {'c': 2, 'h': 1, 'a': 3, ...}\n",
    "mang_ky_tu = {}\n",
    "ky_tu_day_nhat = ''\n",
    "chuoi = input('Nhập chuỗi: ').strip()\n",
    "print(chuoi)\n",
    "for ky_tu in chuoi:\n",
    "    mang_ky_tu[ky_tu] = chuoi.count(ky_tu)\n",
    "print(mang_ky_tu)"
   ]
  },
  {
   "cell_type": "code",
   "execution_count": 22,
   "id": "d1dc173d",
   "metadata": {},
   "outputs": [
    {
     "name": "stdout",
     "output_type": "stream",
     "text": [
      "{'n1': [1, 2, 3], 'n2': [5, 1, 2], 'n3': [3, 2, 4]}\n",
      "{'n1': [1, 2, 3], 'n2': [1, 2, 5], 'n3': [3, 2, 4]}\n",
      "{'n1': [1, 2, 3], 'n2': [1, 2, 5], 'n3': [2, 3, 4]}\n"
     ]
    }
   ],
   "source": [
    "# 3. Cho 1 dictionary sau: num = {'n1': [2, 3, 1], 'n2': [5, 1, 2], 'n3': [3, 2, 4]}\n",
    "# Sắp xếp các list giá trị tăng dần.\n",
    "# Kết quả: {'n1': [1, 2, 3], 'n2': [1, 2, 5], 'n3': [2, 3, 4]}\n",
    "\n",
    "num = {'n1': [2, 3, 1], 'n2': [5, 1, 2], 'n3': [3, 2, 4]}\n",
    "for key in num:\n",
    "    num[key].sort()\n",
    "print(num)\n",
    "\n",
    "\n"
   ]
  },
  {
   "cell_type": "code",
   "execution_count": 33,
   "id": "7b03ea57",
   "metadata": {},
   "outputs": [
    {
     "name": "stdout",
     "output_type": "stream",
     "text": [
      "{'S001': ['Toan', 'Ly'], 'S002': ['Hoa', 'Sinh']}\n"
     ]
    }
   ],
   "source": [
    "# 4. Cho dictionary: {'S  001': ['Toan', 'Ly'], 'S    002': ['Hoa', 'Sinh']}\n",
    "# Xử lý và xuất ra dictionary mới với key không có khoảng trắng.\n",
    "# Kết quả: {'S001': ['Toan', 'Ly'], 'S002': ['Hoa', 'Sinh']}\n",
    "\n",
    "my_dic = {'S  001': ['Toan', 'Ly'], 'S    002': ['Hoa', 'Sinh']}\n",
    "my_new_dic = {}\n",
    "for item in my_dic:\n",
    "    new_key = item.replace(' ','')\n",
    "    my_new_dic[new_key] = my_dic[item]\n",
    "print(my_new_dic)"
   ]
  },
  {
   "cell_type": "code",
   "execution_count": 41,
   "id": "a64b86ac",
   "metadata": {},
   "outputs": [
    {
     "name": "stdout",
     "output_type": "stream",
     "text": [
      "{'ma': 1, 'ten': 'Hoc vien 1', 'trung_binh': 8.5}\n",
      "{'ma': 2, 'ten': 'Hoc vien 2', 'trung_binh': 5.0}\n",
      "{'ma': 3, 'ten': 'Hoc vien 3', 'trung_binh': 8.0}\n"
     ]
    }
   ],
   "source": [
    "# 5. Cho 1 list các dictionary chứa điểm môn Toán của các học viên với định dạng như sau:\n",
    "# [\n",
    "#   {'ma' : 1, 'ten' : 'Hoc vien 1', 'ly_thuyet' : 8, 'thuc_hanh' : 9},\n",
    "#   {'ma' : 2, 'ten' : 'Hoc vien 2', 'ly_thuyet' : 6, 'thuc_hanh' : 4},\n",
    "#   {'ma' : 3, 'ten' : 'Hoc vien 3', 'ly_thuyet' : 9, 'thuc_hanh' : 7}\n",
    "# ]\n",
    "# Tìm ra điểm trung bình và xuất ra trong danh sách mới. Danh sách này sẽ thay thế điểm lý thuyết và thực hành thành điểm trung bình.\n",
    "# Kết quả:\n",
    "#  [\n",
    "#   {'ma' : 1, 'ten' : 'Hoc vien 1', 'trung_binh' : 8.5},\n",
    "#   {'ma' : 2, 'ten' : 'Hoc vien 2', 'trung_binh' : 5},\n",
    "#   {'ma' : 3, 'ten' : 'Hoc vien 3', 'trung_binh' : 8}\n",
    "# ]\n",
    "\n",
    "students = [\n",
    "{'ma' : 1, 'ten' : 'Hoc vien 1', 'ly_thuyet' : 8, 'thuc_hanh' : 9},\n",
    "{'ma' : 2, 'ten' : 'Hoc vien 2', 'ly_thuyet' : 6, 'thuc_hanh' : 4},\n",
    "{'ma' : 3, 'ten' : 'Hoc vien 3', 'ly_thuyet' : 9, 'thuc_hanh' : 7}\n",
    "]\n",
    "diem_trung_binh = 0\n",
    "for student in students:\n",
    "    diem_trung_binh = (student['ly_thuyet']+student['thuc_hanh'])/2\n",
    "    student.pop('ly_thuyet')\n",
    "    student.pop('thuc_hanh')\n",
    "    student['trung_binh'] = diem_trung_binh\n",
    "for student in students:\n",
    "    print(student)\n",
    "    \n",
    "\n"
   ]
  },
  {
   "cell_type": "code",
   "execution_count": 51,
   "id": "6a8a9aab",
   "metadata": {},
   "outputs": [
    {
     "name": "stdout",
     "output_type": "stream",
     "text": [
      "{'c1': 'Red', 'c2': 'Green'}\n"
     ]
    }
   ],
   "source": [
    "# 6. Xóa các phần tử có giá trị rỗng (None) trong 1 dictionary.\n",
    "# Ví dụ: {'c1': 'Red', 'c2': 'Green', 'c3':None}\n",
    "# Kết quả: {'c1': 'Red', 'c2': 'Green'}\n",
    "\n",
    "my_dic = {'c1': 'Red', 'c2': 'Green', 'c3':None}\n",
    "my_new_dic = {}\n",
    "for item in my_dic:\n",
    "    if my_dic[item] is not None:\n",
    "        my_new_dic[item] = my_dic[item]\n",
    "print(my_new_dic)"
   ]
  },
  {
   "cell_type": "code",
   "execution_count": null,
   "id": "418baf74",
   "metadata": {},
   "outputs": [],
   "source": [
    "# 7. Kiểm tra tất cả các giá trị trong 1 dictionary là giống nhau, nếu giống trả về True ngược lại False.\n",
    "\n",
    "\n"
   ]
  },
  {
   "cell_type": "code",
   "execution_count": 59,
   "id": "29fa99fc",
   "metadata": {},
   "outputs": [
    {
     "name": "stdout",
     "output_type": "stream",
     "text": [
      "{'yellow': [1, 3], 'blue': [2, 4], 'red': [1]}\n"
     ]
    }
   ],
   "source": [
    "# 8. Cho 1 list các tuple với mỗi tuple có 2 phần tử. \n",
    "# Hãy tạo 1 dict với key là phần tử đầu trong 1 tuple. Value sẽ là 1 list gồm các phần tử thứ 2 trong mỗi tuple.\n",
    "# Ví dụ: [('yellow', 1), ('blue', 2), ('yellow', 3), ('blue', 4), ('red', 1)]\n",
    "# Kết quả: {'yellow': [1, 3], 'blue': [2, 4], 'red': [1]}\"\n",
    "colors = [('yellow', 1), ('blue', 2), ('yellow', 3), ('blue', 4), ('red', 1)]\n",
    "color_dic = {}\n",
    "color_list = []\n",
    "temp = ''\n",
    "for color in colors:\n",
    "    if color[0] not in color_list:\n",
    "        color_list.append(color[0])\n",
    "for color in color_list:\n",
    "    color_num = []\n",
    "    for item in colors:\n",
    "        if item[0] == color:\n",
    "            color_num.append(item[1])\n",
    "    color_dic[color] = color_num    \n",
    "print(color_dic)\n",
    "        "
   ]
  },
  {
   "cell_type": "markdown",
   "id": "b2b0cac9",
   "metadata": {},
   "source": []
  },
  {
   "cell_type": "code",
   "execution_count": null,
   "id": "ff64c210",
   "metadata": {},
   "outputs": [],
   "source": []
  }
 ],
 "metadata": {
  "kernelspec": {
   "display_name": "Python 3",
   "language": "python",
   "name": "python3"
  },
  "language_info": {
   "codemirror_mode": {
    "name": "ipython",
    "version": 3
   },
   "file_extension": ".py",
   "mimetype": "text/x-python",
   "name": "python",
   "nbconvert_exporter": "python",
   "pygments_lexer": "ipython3",
   "version": "3.8.8"
  }
 },
 "nbformat": 4,
 "nbformat_minor": 5
}
