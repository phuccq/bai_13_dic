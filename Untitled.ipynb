{
 "cells": [
  {
   "cell_type": "code",
   "execution_count": 5,
   "id": "d4e3e68a",
   "metadata": {},
   "outputs": [
    {
     "name": "stdout",
     "output_type": "stream",
     "text": [
      "Nhập mã nhân viên: 1\n",
      "Nhập tuổi nhân viên: 21\n",
      "Nhập mã nhân viên: 2\n",
      "Nhập tuổi nhân viên: 35\n",
      "Nhập mã nhân viên: 340\n",
      "Nhập tuổi nhân viên: \n",
      "{'1': '21', '2': '35'}\n",
      "Tuổi của nhân viên lớn nhất là  35\n",
      "Tuổi của nhân viên nhỏ nhất là  21\n"
     ]
    }
   ],
   "source": [
    "employee = {}\n",
    "tuoi_lon_nhat = 0\n",
    "while True:\n",
    "    maNv = input(\"Nhập mã nhân viên: \")\n",
    "    tuoiNv = input(\"Nhập tuổi nhân viên: \")    \n",
    "    if maNv == \"\" or tuoiNv == \"\":\n",
    "        break\n",
    "    employee[maNv] = tuoiNv\n",
    "print(employee)\n",
    "print(\"Tuổi của nhân viên lớn nhất là \",max(employee.values()))\n",
    "print(\"Tuổi của nhân viên nhỏ nhất là \",min(employee.values()))\n",
    "    "
   ]
  },
  {
   "cell_type": "code",
   "execution_count": null,
   "id": "739549f3",
   "metadata": {},
   "outputs": [],
   "source": [
    "employee = {}\n",
    "while True:\n",
    "    maNv = input(\"Nhập mã nhân viên: \")\n",
    "    tuoiNv = input(\"Nhập tuổi nhân viên: \")    \n",
    "    if maNv == \"\" or tuoiNv == \"\":\n",
    "        break\n",
    "    for maNv,tuoiNv in employee:\n",
    "        employee[maNv] = tuoiNv"
   ]
  },
  {
   "cell_type": "code",
   "execution_count": 19,
   "id": "5195a413",
   "metadata": {},
   "outputs": [
    {
     "name": "stdout",
     "output_type": "stream",
     "text": [
      "2022-08-17 22:04:32.594186\n"
     ]
    }
   ],
   "source": [
    "# 2. Tạo 1 dict từ 1 chuỗi với key là ký tự và value là số lượng ký tự đó xuất hiện trong chuỗi.\n",
    "# Ví dụ: 'chao cac ban'\n",
    "# => {'c': 2, 'h': 1, 'a': 3, ...}\n"
   ]
  },
  {
   "cell_type": "code",
   "execution_count": 29,
   "id": "d1dc173d",
   "metadata": {},
   "outputs": [
    {
     "ename": "AttributeError",
     "evalue": "'str' object has no attribute 'sort'",
     "output_type": "error",
     "traceback": [
      "\u001b[1;31m---------------------------------------------------------------------------\u001b[0m",
      "\u001b[1;31mAttributeError\u001b[0m                            Traceback (most recent call last)",
      "\u001b[1;32m<ipython-input-29-e53f33fc0b60>\u001b[0m in \u001b[0;36m<module>\u001b[1;34m\u001b[0m\n\u001b[0;32m      5\u001b[0m \u001b[0mnum\u001b[0m \u001b[1;33m=\u001b[0m \u001b[1;33m{\u001b[0m\u001b[1;34m'n1'\u001b[0m\u001b[1;33m:\u001b[0m \u001b[1;33m[\u001b[0m\u001b[1;36m2\u001b[0m\u001b[1;33m,\u001b[0m \u001b[1;36m3\u001b[0m\u001b[1;33m,\u001b[0m \u001b[1;36m1\u001b[0m\u001b[1;33m]\u001b[0m\u001b[1;33m,\u001b[0m \u001b[1;34m'n2'\u001b[0m\u001b[1;33m:\u001b[0m \u001b[1;33m[\u001b[0m\u001b[1;36m5\u001b[0m\u001b[1;33m,\u001b[0m \u001b[1;36m1\u001b[0m\u001b[1;33m,\u001b[0m \u001b[1;36m2\u001b[0m\u001b[1;33m]\u001b[0m\u001b[1;33m,\u001b[0m \u001b[1;34m'n3'\u001b[0m\u001b[1;33m:\u001b[0m \u001b[1;33m[\u001b[0m\u001b[1;36m3\u001b[0m\u001b[1;33m,\u001b[0m \u001b[1;36m2\u001b[0m\u001b[1;33m,\u001b[0m \u001b[1;36m4\u001b[0m\u001b[1;33m]\u001b[0m\u001b[1;33m}\u001b[0m\u001b[1;33m\u001b[0m\u001b[1;33m\u001b[0m\u001b[0m\n\u001b[0;32m      6\u001b[0m \u001b[1;32mfor\u001b[0m \u001b[0mkey\u001b[0m\u001b[1;33m,\u001b[0m\u001b[0mvalue\u001b[0m \u001b[1;32min\u001b[0m \u001b[0mnum\u001b[0m\u001b[1;33m:\u001b[0m\u001b[1;33m\u001b[0m\u001b[1;33m\u001b[0m\u001b[0m\n\u001b[1;32m----> 7\u001b[1;33m     \u001b[0mnum\u001b[0m\u001b[1;33m[\u001b[0m\u001b[0mkey\u001b[0m\u001b[1;33m]\u001b[0m \u001b[1;33m=\u001b[0m \u001b[0mvalue\u001b[0m\u001b[1;33m.\u001b[0m\u001b[0msort\u001b[0m\u001b[1;33m\u001b[0m\u001b[1;33m\u001b[0m\u001b[0m\n\u001b[0m\u001b[0;32m      8\u001b[0m \u001b[0mprint\u001b[0m\u001b[1;33m(\u001b[0m\u001b[0mnum\u001b[0m\u001b[1;33m[\u001b[0m\u001b[1;34m'n1'\u001b[0m\u001b[1;33m]\u001b[0m\u001b[1;33m)\u001b[0m\u001b[1;33m\u001b[0m\u001b[1;33m\u001b[0m\u001b[0m\n\u001b[0;32m      9\u001b[0m \u001b[1;33m\u001b[0m\u001b[0m\n",
      "\u001b[1;31mAttributeError\u001b[0m: 'str' object has no attribute 'sort'"
     ]
    }
   ],
   "source": [
    "# 3. Cho 1 dictionary sau: num = {'n1': [2, 3, 1], 'n2': [5, 1, 2], 'n3': [3, 2, 4]}\n",
    "# Sắp xếp các list giá trị tăng dần.\n",
    "# Kết quả: {'n1': [1, 2, 3], 'n2': [1, 2, 5], 'n3': [2, 3, 4]}\n",
    "\n",
    "num = {'n1': [2, 3, 1], 'n2': [5, 1, 2], 'n3': [3, 2, 4]}\n",
    "for key,value in num:\n",
    "#     num[key] = value.sort\n",
    "    print()\n",
    "print(num['n1'])\n",
    "\n",
    "# 4. Cho dictionary: {'S  001': ['Toan', 'Ly'], 'S    002': ['Hoa', 'Sinh']}\n",
    "# Xử lý và xuất ra dictionary mới với key không có khoảng trắng.\n",
    "# Kết quả: {'S001': ['Toan', 'Ly'], 'S002': ['Hoa', 'Sinh']}\n",
    "# 5. Cho 1 list các dictionary chứa điểm môn Toán của các học viên với định dạng như sau:\n",
    "# [\n",
    "#   {'ma' : 1, 'ten' : 'Hoc vien 1', 'ly_thuyet' : 8, 'thuc_hanh' : 9},\n",
    "#   {'ma' : 2, 'ten' : 'Hoc vien 2', 'ly_thuyet' : 6, 'thuc_hanh' : 4},\n",
    "#   {'ma' : 3, 'ten' : 'Hoc vien 3', 'ly_thuyet' : 9, 'thuc_hanh' : 7}\n",
    "# ]\n",
    "# Tìm ra điểm trung bình và xuất ra trong danh sách mới. Danh sách này sẽ thay thế điểm lý thuyết và thực hành thành điểm trung bình.\n",
    "# Kết quả:\n",
    "#  [\n",
    "#   {'ma' : 1, 'ten' : 'Hoc vien 1', 'trung_binh' : 8.5},\n",
    "#   {'ma' : 2, 'ten' : 'Hoc vien 2', 'trung_binh' : 5},\n",
    "#   {'ma' : 3, 'ten' : 'Hoc vien 3', 'trung_binh' : 8}\n",
    "# ]\n",
    "# 6. Xóa các phần tử có giá trị rỗng (None) trong 1 dictionary.\n",
    "# Ví dụ:\n",
    "# {'c1': 'Red', 'c2': 'Green', 'c3':None}\n",
    "# Kết quả:\n",
    "# {'c1': 'Red', 'c2': 'Green'}\n",
    "# 7. Kiểm tra tất cả các giá trị trong 1 dictionary là giống nhau, nếu giống trả về True ngược lại False.\n",
    "# 8. Cho 1 list các tuple với mỗi tuple có 2 phần tử. \n",
    "# Hãy tạo 1 dict với key là phần tử đầu trong 1 tuple. Value sẽ là 1 list gồm các phần tử thứ 2 trong mỗi tuple.\n",
    "# Ví dụ: [('yellow', 1), ('blue', 2), ('yellow', 3), ('blue', 4), ('red', 1)]\n",
    "# Kết quả: {'yellow': [1, 3], 'blue': [2, 4], 'red': [1]}\"\n",
    "\n",
    "\n"
   ]
  },
  {
   "cell_type": "code",
   "execution_count": 32,
   "id": "593911f8",
   "metadata": {},
   "outputs": [
    {
     "name": "stdout",
     "output_type": "stream",
     "text": [
      "{'s01': {'name': 'xoài', 'price': '20.000đ'}, 's02': {'name': 'cam', 'price': '10.000đ'}, 's03': {'name': 'táo', 'price': '35.000đ'}}\n"
     ]
    }
   ],
   "source": [
    "product_db = {\n",
    "    's01':{        \n",
    "        'name':'xoài',\n",
    "        'price':'20.000đ'\n",
    "    },\n",
    "    's02':{        \n",
    "        'name':'cam',\n",
    "        'price':'10.000đ'\n",
    "    }\n",
    "}\n",
    "product_db['s03']={'name':'táo','price':'35.000đ'}\n",
    "print(product_db)"
   ]
  },
  {
   "cell_type": "code",
   "execution_count": null,
   "id": "e059fefb",
   "metadata": {},
   "outputs": [],
   "source": []
  }
 ],
 "metadata": {
  "kernelspec": {
   "display_name": "Python 3",
   "language": "python",
   "name": "python3"
  },
  "language_info": {
   "codemirror_mode": {
    "name": "ipython",
    "version": 3
   },
   "file_extension": ".py",
   "mimetype": "text/x-python",
   "name": "python",
   "nbconvert_exporter": "python",
   "pygments_lexer": "ipython3",
   "version": "3.8.8"
  }
 },
 "nbformat": 4,
 "nbformat_minor": 5
}
