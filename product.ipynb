{
 "cells": [
  {
   "cell_type": "code",
   "execution_count": 1,
   "id": "b6a63df0",
   "metadata": {},
   "outputs": [
    {
     "name": "stdout",
     "output_type": "stream",
     "text": [
      "Input price: 600\n",
      "SMART WATCH : 550\n",
      "PLAYSTATION : 500\n",
      "MUSIC PLAYER : 600\n",
      "TABLET : 400\n"
     ]
    }
   ],
   "source": [
    "def display_product(product_db,price):\n",
    "    for key in product_db:\n",
    "        if product_db[key] <= price:\n",
    "            print(key,':',product_db[key])\n",
    "\n",
    "products = {\n",
    "            'SMART WATCH': 550,\n",
    "            'PHONE' : 1000,\n",
    "            'PLAYSTATION': 500,\n",
    "            'LAPTOP' : 1550,\n",
    "            'MUSIC PLAYER' : 600,\n",
    "            'TABLET' : 400 \n",
    "           }\n",
    "\n",
    "price = int(input('Input price: '))\n",
    "display_product(products,price)"
   ]
  },
  {
   "cell_type": "code",
   "execution_count": null,
   "id": "98e0719f",
   "metadata": {},
   "outputs": [],
   "source": []
  }
 ],
 "metadata": {
  "kernelspec": {
   "display_name": "Python 3",
   "language": "python",
   "name": "python3"
  },
  "language_info": {
   "codemirror_mode": {
    "name": "ipython",
    "version": 3
   },
   "file_extension": ".py",
   "mimetype": "text/x-python",
   "name": "python",
   "nbconvert_exporter": "python",
   "pygments_lexer": "ipython3",
   "version": "3.8.8"
  }
 },
 "nbformat": 4,
 "nbformat_minor": 5
}
