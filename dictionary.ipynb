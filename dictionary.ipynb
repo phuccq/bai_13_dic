{
 "cells": [
  {
   "cell_type": "code",
   "execution_count": 13,
   "id": "ca3fa837",
   "metadata": {},
   "outputs": [
    {
     "name": "stdout",
     "output_type": "stream",
     "text": [
      "Input word you want to traslate: tiger\n",
      "can not found tiger\n"
     ]
    }
   ],
   "source": [
    "def translate(myDic,word):\n",
    "    for key in myDic:\n",
    "        if key == word:\n",
    "            return myDic[key]\n",
    "myDic = {\n",
    "    'dog':'chó',\n",
    "    'cat':'mèo',\n",
    "    'bird':'chim',\n",
    "    'fish':'cá'\n",
    "}\n",
    "word = input('Input word you want to traslate: ')\n",
    "if translate(myDic,word):    \n",
    "    print(translate(myDic,word))\n",
    "else:\n",
    "    print('can not found',word)\n"
   ]
  },
  {
   "cell_type": "code",
   "execution_count": null,
   "id": "13ff801b",
   "metadata": {},
   "outputs": [],
   "source": []
  }
 ],
 "metadata": {
  "kernelspec": {
   "display_name": "Python 3",
   "language": "python",
   "name": "python3"
  },
  "language_info": {
   "codemirror_mode": {
    "name": "ipython",
    "version": 3
   },
   "file_extension": ".py",
   "mimetype": "text/x-python",
   "name": "python",
   "nbconvert_exporter": "python",
   "pygments_lexer": "ipython3",
   "version": "3.8.8"
  }
 },
 "nbformat": 4,
 "nbformat_minor": 5
}
